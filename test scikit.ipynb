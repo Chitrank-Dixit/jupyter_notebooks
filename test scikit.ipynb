{
 "cells": [
  {
   "cell_type": "code",
   "execution_count": null,
   "metadata": {
    "collapsed": false
   },
   "outputs": [
    {
     "name": "stdout",
     "output_type": "stream",
     "text": [
      "> <ipython-input-7-bbe05c868cc2>(8)<module>()->None\n",
      "-> print row\n",
      "(Pdb) row\n",
      "['NO.,User,Phone,Pin,OId,OPId,CDate,Type,Item,Brand,Inv-Gender,Gender,Ware', 'House,Coupon,CValue,Wallet,revenue,Deposit,Delivery,City,Status,Ind', 'Status,Reason,Payment,Platform,Source']\n"
     ]
    }
   ],
   "source": [
    "import numpy as np\n",
    "import csv\n",
    "\n",
    "with open('order-data-8Oct-28Feb.csv') as csvfile:\n",
    "    spamreader = csv.reader(csvfile, delimiter=' ', quotechar='|')\n",
    "    for counter, row in enumerate(spamreader):\n",
    "        import pdb;pdb.set_trace()\n",
    "        print row\n",
    "        \n",
    "    \n",
    "data = np.loadtxt('order-data-8Oct-28Feb.csv', delimiter=' ')\n",
    "print data"
   ]
  },
  {
   "cell_type": "code",
   "execution_count": null,
   "metadata": {
    "collapsed": true
   },
   "outputs": [],
   "source": []
  },
  {
   "cell_type": "code",
   "execution_count": null,
   "metadata": {
    "collapsed": true
   },
   "outputs": [],
   "source": []
  },
  {
   "cell_type": "code",
   "execution_count": null,
   "metadata": {
    "collapsed": true
   },
   "outputs": [],
   "source": []
  }
 ],
 "metadata": {
  "kernelspec": {
   "display_name": "Python 2",
   "language": "python",
   "name": "python2"
  },
  "language_info": {
   "codemirror_mode": {
    "name": "ipython",
    "version": 2
   },
   "file_extension": ".py",
   "mimetype": "text/x-python",
   "name": "python",
   "nbconvert_exporter": "python",
   "pygments_lexer": "ipython2",
   "version": "2.7.11"
  }
 },
 "nbformat": 4,
 "nbformat_minor": 0
}
