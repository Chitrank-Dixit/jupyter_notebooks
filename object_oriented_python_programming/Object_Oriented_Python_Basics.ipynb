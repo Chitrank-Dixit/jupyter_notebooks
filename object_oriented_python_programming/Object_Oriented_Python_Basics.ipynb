{
 "cells": [
  {
   "cell_type": "code",
   "execution_count": 1,
   "metadata": {
    "collapsed": true
   },
   "outputs": [],
   "source": [
    "# Object Oriented Programming using Python\n",
    "class Account(object):\n",
    "    \"\"\"\n",
    "        Simple class that deposit , withdraw , transfer amount and check balance from the user account\n",
    "    \"\"\"\n",
    "    # __init__ is the constructor in python programming\n",
    "    def __init__(self, holder, number, balance,credit_line=1500): \n",
    "        self.Holder = holder \n",
    "        self.Number = number \n",
    "        self.Balance = balance\n",
    "        self.CreditLine = credit_line\n",
    "\n",
    "    # deposit the amount into the account\n",
    "    def deposit(self, amount): \n",
    "        self.Balance = self.Balance + amount\n",
    "\n",
    "    # withdraw the amount from the account\n",
    "    def withdraw(self, amount): \n",
    "        if(self.Balance - amount < -self.CreditLine):\n",
    "            # coverage insufficient\n",
    "            return False  \n",
    "        else: \n",
    "            self.Balance -= amount \n",
    "            return True\n",
    "\n",
    "    # check the balance of the account\n",
    "    def balance(self): \n",
    "        return self.Balance\n",
    "\n",
    "    # transfer the amount in the account\n",
    "    def transfer(self, target, amount):\n",
    "        if(self.Balance - amount < -self.CreditLine):\n",
    "            # coverage insufficient\n",
    "            return False  \n",
    "        else: \n",
    "            self.Balance -= amount \n",
    "            target.Balance += amount \n",
    "            return True\n",
    "    \n",
    "    # destructor in python programming\n",
    "    def __del__(self):\n",
    "        print 'destructor started'"
   ]
  },
  {
   "cell_type": "code",
   "execution_count": 2,
   "metadata": {
    "collapsed": false
   },
   "outputs": [],
   "source": [
    "# testing the class start the account of first person\n",
    "account_instance = Account(\"Guido\",345267,10009.78)"
   ]
  },
  {
   "cell_type": "code",
   "execution_count": 3,
   "metadata": {
    "collapsed": false
   },
   "outputs": [
    {
     "data": {
      "text/plain": [
       "10009.78"
      ]
     },
     "execution_count": 3,
     "metadata": {},
     "output_type": "execute_result"
    }
   ],
   "source": [
    "account_instance.balance()"
   ]
  },
  {
   "cell_type": "code",
   "execution_count": 4,
   "metadata": {
    "collapsed": true
   },
   "outputs": [],
   "source": [
    "# start the account of the second person\n",
    "account_instance1 = Account(\"Sven\",345289,3800.03)"
   ]
  },
  {
   "cell_type": "code",
   "execution_count": 5,
   "metadata": {
    "collapsed": false
   },
   "outputs": [
    {
     "data": {
      "text/plain": [
       "3800.03"
      ]
     },
     "execution_count": 5,
     "metadata": {},
     "output_type": "execute_result"
    }
   ],
   "source": [
    "account_instance1.balance()"
   ]
  },
  {
   "cell_type": "code",
   "execution_count": 6,
   "metadata": {
    "collapsed": false
   },
   "outputs": [
    {
     "data": {
      "text/plain": [
       "True"
      ]
     },
     "execution_count": 6,
     "metadata": {},
     "output_type": "execute_result"
    }
   ],
   "source": [
    "# transfer some amount from one account to other account\n",
    "account_instance.transfer(account_instance1, 1000)"
   ]
  },
  {
   "cell_type": "code",
   "execution_count": 7,
   "metadata": {
    "collapsed": false
   },
   "outputs": [
    {
     "data": {
      "text/plain": [
       "4800.030000000001"
      ]
     },
     "execution_count": 7,
     "metadata": {},
     "output_type": "execute_result"
    }
   ],
   "source": [
    "account_instance1.balance()"
   ]
  },
  {
   "cell_type": "code",
   "execution_count": 8,
   "metadata": {
    "collapsed": false
   },
   "outputs": [
    {
     "data": {
      "text/plain": [
       "9009.78"
      ]
     },
     "execution_count": 8,
     "metadata": {},
     "output_type": "execute_result"
    }
   ],
   "source": [
    "account_instance.balance()"
   ]
  },
  {
   "cell_type": "code",
   "execution_count": 9,
   "metadata": {
    "collapsed": false
   },
   "outputs": [],
   "source": [
    "# deposit some amount\n",
    "account_instance.deposit(5000)"
   ]
  },
  {
   "cell_type": "code",
   "execution_count": 10,
   "metadata": {
    "collapsed": false
   },
   "outputs": [
    {
     "data": {
      "text/plain": [
       "14009.78"
      ]
     },
     "execution_count": 10,
     "metadata": {},
     "output_type": "execute_result"
    }
   ],
   "source": [
    "account_instance.balance()"
   ]
  },
  {
   "cell_type": "code",
   "execution_count": 11,
   "metadata": {
    "collapsed": false
   },
   "outputs": [],
   "source": [
    "# increase the balance\n",
    "account_instance.Balance +=50000"
   ]
  },
  {
   "cell_type": "code",
   "execution_count": 12,
   "metadata": {
    "collapsed": false
   },
   "outputs": [
    {
     "data": {
      "text/plain": [
       "64009.78"
      ]
     },
     "execution_count": 12,
     "metadata": {},
     "output_type": "execute_result"
    }
   ],
   "source": [
    "account_instance.balance()"
   ]
  },
  {
   "cell_type": "code",
   "execution_count": 13,
   "metadata": {
    "collapsed": true
   },
   "outputs": [],
   "source": [
    "# data encapsulation in python programming\n",
    "\"\"\"\n",
    "Name    Notation    Behaviour\n",
    "\n",
    "name    Public        Can be accessed from inside and outside\n",
    "_name   Protected     Like a public member, but they shouldn't be directly accessed from outside.\n",
    "__name  Private       Can't be seen and accessed from outside\n",
    "\"\"\"\n",
    "\n",
    "\n",
    "class Student(object):\n",
    "    def __init__(self, name, age, address):\n",
    "        self.public = name\n",
    "        self._protected = age\n",
    "        self.__private = address\n",
    "        \n",
    "    "
   ]
  },
  {
   "cell_type": "code",
   "execution_count": 14,
   "metadata": {
    "collapsed": true
   },
   "outputs": [],
   "source": [
    "student_instance = Student(\"Chitrank Dixit\", 25, \"2305 sudama nagar Indore\")"
   ]
  },
  {
   "cell_type": "code",
   "execution_count": 15,
   "metadata": {
    "collapsed": false
   },
   "outputs": [
    {
     "data": {
      "text/plain": [
       "'Chitrank Dixit'"
      ]
     },
     "execution_count": 15,
     "metadata": {},
     "output_type": "execute_result"
    }
   ],
   "source": [
    "student_instance.public"
   ]
  },
  {
   "cell_type": "code",
   "execution_count": 16,
   "metadata": {
    "collapsed": false
   },
   "outputs": [
    {
     "data": {
      "text/plain": [
       "25"
      ]
     },
     "execution_count": 16,
     "metadata": {},
     "output_type": "execute_result"
    }
   ],
   "source": [
    "student_instance._protected"
   ]
  },
  {
   "cell_type": "code",
   "execution_count": 18,
   "metadata": {
    "collapsed": false
   },
   "outputs": [
    {
     "ename": "AttributeError",
     "evalue": "'Student' object has no attribute '__private'",
     "output_type": "error",
     "traceback": [
      "\u001b[0;31m---------------------------------------------------------------------------\u001b[0m",
      "\u001b[0;31mAttributeError\u001b[0m                            Traceback (most recent call last)",
      "\u001b[0;32m<ipython-input-18-153c4eaac4c6>\u001b[0m in \u001b[0;36m<module>\u001b[0;34m()\u001b[0m\n\u001b[1;32m      1\u001b[0m \u001b[0;31m# can be accessed only within a class cannot be called from outside of the class\u001b[0m\u001b[0;34m\u001b[0m\u001b[0;34m\u001b[0m\u001b[0m\n\u001b[0;32m----> 2\u001b[0;31m \u001b[0mstudent_instance\u001b[0m\u001b[0;34m.\u001b[0m\u001b[0m__private\u001b[0m\u001b[0;34m\u001b[0m\u001b[0m\n\u001b[0m",
      "\u001b[0;31mAttributeError\u001b[0m: 'Student' object has no attribute '__private'"
     ]
    }
   ],
   "source": [
    "# can be accessed only within a class cannot be called from outside of the class\n",
    "student_instance.__private"
   ]
  },
  {
   "cell_type": "code",
   "execution_count": 19,
   "metadata": {
    "collapsed": true
   },
   "outputs": [],
   "source": [
    "# Inheritance in Python Programming\n",
    "class Pet(object):\n",
    "\n",
    "    def __init__(self, name, species):\n",
    "        self.name = name\n",
    "        self.species = species\n",
    "\n",
    "    def getName(self):\n",
    "        return self.name\n",
    "\n",
    "    def getSpecies(self):\n",
    "        return self.species\n",
    "\n",
    "    def __str__(self):\n",
    "        return \"%s is a %s\" % (self.name, self.species)\n",
    "    \n",
    "\n"
   ]
  },
  {
   "cell_type": "code",
   "execution_count": 20,
   "metadata": {
    "collapsed": true
   },
   "outputs": [],
   "source": [
    "# instance of the Pet class\n",
    "polly = Pet(\"Polly\", \"Parrot\")"
   ]
  },
  {
   "cell_type": "code",
   "execution_count": 21,
   "metadata": {
    "collapsed": false
   },
   "outputs": [
    {
     "data": {
      "text/plain": [
       "'Polly'"
      ]
     },
     "execution_count": 21,
     "metadata": {},
     "output_type": "execute_result"
    }
   ],
   "source": [
    "polly.getName()"
   ]
  },
  {
   "cell_type": "code",
   "execution_count": 22,
   "metadata": {
    "collapsed": false
   },
   "outputs": [
    {
     "data": {
      "text/plain": [
       "'Parrot'"
      ]
     },
     "execution_count": 22,
     "metadata": {},
     "output_type": "execute_result"
    }
   ],
   "source": [
    "polly.getSpecies()"
   ]
  },
  {
   "cell_type": "code",
   "execution_count": 23,
   "metadata": {
    "collapsed": true
   },
   "outputs": [],
   "source": [
    "# single inheritance\n",
    "# class Dog that inherits from Pet class\n",
    "class Dog(Pet):\n",
    "\n",
    "    def __init__(self, name, chases_cats):\n",
    "        Pet.__init__(self, name, \"Dog\")\n",
    "        self.chases_cats = chases_cats\n",
    "\n",
    "    def chasesCats(self):\n",
    "        return self.chases_cats"
   ]
  },
  {
   "cell_type": "code",
   "execution_count": 24,
   "metadata": {
    "collapsed": true
   },
   "outputs": [],
   "source": [
    "# after adding another class it becomes hierarchical inheritance\n",
    "# class Cat that inherits from Pet class\n",
    "class Cat(Pet):\n",
    "\n",
    "    def __init__(self, name, hates_dogs):\n",
    "        Pet.__init__(self, name, \"Cat\")\n",
    "        self.hates_dogs = hates_dogs\n",
    "\n",
    "    def hatesDogs(self):\n",
    "        return self.hates_dogs"
   ]
  },
  {
   "cell_type": "code",
   "execution_count": 25,
   "metadata": {
    "collapsed": true
   },
   "outputs": [],
   "source": [
    "mister_pet = Pet(\"Mister\", \"Dog\")"
   ]
  },
  {
   "cell_type": "code",
   "execution_count": 26,
   "metadata": {
    "collapsed": true
   },
   "outputs": [],
   "source": [
    "mister_dog = Dog(\"Mister\", True)"
   ]
  },
  {
   "cell_type": "code",
   "execution_count": 27,
   "metadata": {
    "collapsed": false
   },
   "outputs": [
    {
     "data": {
      "text/plain": [
       "True"
      ]
     },
     "execution_count": 27,
     "metadata": {},
     "output_type": "execute_result"
    }
   ],
   "source": [
    "isinstance(mister_pet, Pet)"
   ]
  },
  {
   "cell_type": "code",
   "execution_count": 28,
   "metadata": {
    "collapsed": false
   },
   "outputs": [
    {
     "data": {
      "text/plain": [
       "False"
      ]
     },
     "execution_count": 28,
     "metadata": {},
     "output_type": "execute_result"
    }
   ],
   "source": [
    "isinstance(mister_pet, Dog)"
   ]
  },
  {
   "cell_type": "code",
   "execution_count": 29,
   "metadata": {
    "collapsed": false
   },
   "outputs": [
    {
     "data": {
      "text/plain": [
       "True"
      ]
     },
     "execution_count": 29,
     "metadata": {},
     "output_type": "execute_result"
    }
   ],
   "source": [
    "isinstance(mister_dog, Pet)"
   ]
  },
  {
   "cell_type": "code",
   "execution_count": 30,
   "metadata": {
    "collapsed": false
   },
   "outputs": [
    {
     "data": {
      "text/plain": [
       "True"
      ]
     },
     "execution_count": 30,
     "metadata": {},
     "output_type": "execute_result"
    }
   ],
   "source": [
    "isinstance(mister_dog, Dog)"
   ]
  },
  {
   "cell_type": "code",
   "execution_count": 31,
   "metadata": {
    "collapsed": false
   },
   "outputs": [
    {
     "name": "stdout",
     "output_type": "stream",
     "text": [
      "Mister is a Dog\n"
     ]
    }
   ],
   "source": [
    "print mister_pet"
   ]
  },
  {
   "cell_type": "code",
   "execution_count": 32,
   "metadata": {
    "collapsed": false
   },
   "outputs": [
    {
     "name": "stdout",
     "output_type": "stream",
     "text": [
      "Mister is a Dog\n"
     ]
    }
   ],
   "source": [
    "print mister_dog"
   ]
  },
  {
   "cell_type": "code",
   "execution_count": 33,
   "metadata": {
    "collapsed": true
   },
   "outputs": [],
   "source": [
    "# multilevel inheritance\n",
    "class SaintBernard(Dog):\n",
    "    \n",
    "    def __init__(self, name,age):\n",
    "        Dog.__init__(self, name, True)\n",
    "        self.age = age\n",
    "    \n",
    "    def getAge(self):\n",
    "        return self.age\n",
    "        "
   ]
  },
  {
   "cell_type": "code",
   "execution_count": 34,
   "metadata": {
    "collapsed": true
   },
   "outputs": [],
   "source": [
    "sb_instance = SaintBernard(\"Robbie\", 2)"
   ]
  },
  {
   "cell_type": "code",
   "execution_count": 35,
   "metadata": {
    "collapsed": false
   },
   "outputs": [
    {
     "data": {
      "text/plain": [
       "2"
      ]
     },
     "execution_count": 35,
     "metadata": {},
     "output_type": "execute_result"
    }
   ],
   "source": [
    "sb_instance.getAge()"
   ]
  },
  {
   "cell_type": "code",
   "execution_count": 36,
   "metadata": {
    "collapsed": false
   },
   "outputs": [],
   "source": [
    "# Overriding Explicitely\n",
    "class Parent(object):\n",
    "\n",
    "    def override(self):\n",
    "        print \"PARENT override()\"\n",
    "\n",
    "    def implicit(self):\n",
    "        print \"PARENT implicit()\"\n",
    "\n",
    "    def altered(self):\n",
    "        print \"PARENT altered()\"\n",
    "\n",
    "class Child(Parent):\n",
    "\n",
    "    def override(self):\n",
    "        print \"CHILD override()\"\n",
    "\n",
    "    def altered(self):\n",
    "        print \"CHILD, BEFORE PARENT altered()\"\n",
    "        super(Child, self).altered()\n",
    "        print \"CHILD, AFTER PARENT altered()\""
   ]
  },
  {
   "cell_type": "code",
   "execution_count": 37,
   "metadata": {
    "collapsed": true
   },
   "outputs": [],
   "source": [
    "# instance of the respective classes\n",
    "dad = Parent()\n",
    "son = Child()"
   ]
  },
  {
   "cell_type": "code",
   "execution_count": 38,
   "metadata": {
    "collapsed": false
   },
   "outputs": [
    {
     "name": "stdout",
     "output_type": "stream",
     "text": [
      "PARENT implicit()\n",
      "PARENT implicit()\n"
     ]
    }
   ],
   "source": [
    "# calling the single method\n",
    "dad.implicit()\n",
    "son.implicit()"
   ]
  },
  {
   "cell_type": "code",
   "execution_count": 39,
   "metadata": {
    "collapsed": false
   },
   "outputs": [
    {
     "name": "stdout",
     "output_type": "stream",
     "text": [
      "PARENT override()\n",
      "CHILD override()\n"
     ]
    }
   ],
   "source": [
    "# calling the overriden method\n",
    "dad.override()\n",
    "son.override()"
   ]
  },
  {
   "cell_type": "code",
   "execution_count": 40,
   "metadata": {
    "collapsed": false
   },
   "outputs": [
    {
     "name": "stdout",
     "output_type": "stream",
     "text": [
      "PARENT altered()\n",
      "CHILD, BEFORE PARENT altered()\n",
      "PARENT altered()\n",
      "CHILD, AFTER PARENT altered()\n"
     ]
    }
   ],
   "source": [
    "# using the super to call the parent class altered method\n",
    "dad.altered()\n",
    "son.altered()"
   ]
  },
  {
   "cell_type": "code",
   "execution_count": 41,
   "metadata": {
    "collapsed": true
   },
   "outputs": [],
   "source": [
    "# super is useful while using the multiple inheritance in python programming so that we can get the method from \n",
    "# specific classes\n",
    "\n",
    "# using super with __init__\n",
    "\n",
    "class Base(object):\n",
    "    def __init__(self):\n",
    "        print \"Base created\"\n",
    "\n",
    "class ChildA(Base):\n",
    "    def __init__(self):\n",
    "        Base.__init__(self)\n",
    "\n",
    "class ChildB(Base):\n",
    "    def __init__(self):\n",
    "        super(ChildB, self).__init__()\n",
    "\n"
   ]
  },
  {
   "cell_type": "code",
   "execution_count": 42,
   "metadata": {
    "collapsed": false
   },
   "outputs": [
    {
     "name": "stdout",
     "output_type": "stream",
     "text": [
      "Base created\n",
      "Base created\n"
     ]
    }
   ],
   "source": [
    "inst1 = ChildA()\n",
    "inst2 = ChildB()"
   ]
  },
  {
   "cell_type": "code",
   "execution_count": 44,
   "metadata": {
    "collapsed": false
   },
   "outputs": [
    {
     "name": "stdout",
     "output_type": "stream",
     "text": [
      "1\n",
      "1\n"
     ]
    }
   ],
   "source": [
    "# demo of @classmethod and @staticmethod in python programming\n",
    "\n",
    "# use of @classmethod\n",
    "class Parent(object):\n",
    "    counter = 0\n",
    "    def __init__(self):\n",
    "        Parent.counter = Parent.counter + 1\n",
    "    \n",
    "    @classmethod\n",
    "    def get_the_count_number(class_obj):\n",
    "        return class_obj.counter\n",
    "\n",
    "obj1 = Parent()\n",
    "# calling with Parent class instance\n",
    "print obj1.get_the_count_number()\n",
    "\n",
    "# calling with the Parent class\n",
    "print Parent.get_the_count_number()"
   ]
  },
  {
   "cell_type": "code",
   "execution_count": 47,
   "metadata": {
    "collapsed": false
   },
   "outputs": [
    {
     "name": "stdout",
     "output_type": "stream",
     "text": [
      "('Reset done for:', 12)\n",
      "None\n",
      "('DB connection made for: ', 12)\n",
      "None\n"
     ]
    }
   ],
   "source": [
    "# use of @staticmethod in python programming\n",
    "# Often there is some functionality that relates to the class, but does not need the class or any instance(s) to do \n",
    "# some work. Perhaps something like setting environmental variables, changing an attribute in another class, etc. \n",
    "# In these situation we can also use a function, however doing so also spreads the interrelated code which can cause \n",
    "# maintenance issues later.\n",
    "\n",
    "signal = 'ON'\n",
    " \n",
    "class Parent(object):\n",
    "    def __init__(self, data):\n",
    "        self.data = data\n",
    " \n",
    "    @staticmethod\n",
    "    def checksignal():\n",
    "        return (signal == 'ON')\n",
    " \n",
    "    def do_reset(self):\n",
    "        if self.checksignal():\n",
    "            print('Reset done for:', self.data)\n",
    " \n",
    "    def set_db(self):\n",
    "        if self.checksignal():\n",
    "            self.db = 'New db connection'\n",
    "        print('DB connection made for: ', self.data)\n",
    "        \n",
    "obj1 = Parent(12)\n",
    "# staticmethod are methods that do not need any class or instance of class to work with\n",
    "print obj1.do_reset()\n",
    "print obj1.set_db()\n"
   ]
  },
  {
   "cell_type": "code",
   "execution_count": null,
   "metadata": {
    "collapsed": true
   },
   "outputs": [],
   "source": []
  }
 ],
 "metadata": {
  "kernelspec": {
   "display_name": "Python 2",
   "language": "python",
   "name": "python2"
  },
  "language_info": {
   "codemirror_mode": {
    "name": "ipython",
    "version": 2
   },
   "file_extension": ".py",
   "mimetype": "text/x-python",
   "name": "python",
   "nbconvert_exporter": "python",
   "pygments_lexer": "ipython2",
   "version": "2.7.11"
  }
 },
 "nbformat": 4,
 "nbformat_minor": 0
}
