{
 "cells": [
  {
   "cell_type": "code",
   "execution_count": 2,
   "metadata": {
    "collapsed": false
   },
   "outputs": [
    {
     "name": "stdout",
     "output_type": "stream",
     "text": [
      "6\n"
     ]
    }
   ],
   "source": [
    "############ Recursion #############\n",
    "\n",
    "# example program to perform recursion consider the factorial program\n",
    "\n",
    "def factorial(number):\n",
    "    # Base Case\n",
    "    if number == 0:\n",
    "        return 1\n",
    "    # recursive case\n",
    "    return number * factorial(number-1)\n",
    "\n",
    "# calling a recursive function\n",
    "print factorial(3)"
   ]
  },
  {
   "cell_type": "code",
   "execution_count": 2,
   "metadata": {
    "collapsed": false
   },
   "outputs": [
    {
     "name": "stdout",
     "output_type": "stream",
     "text": [
      "3\n"
     ]
    }
   ],
   "source": [
    "# similarly making a fibonacci program\n",
    "\n",
    "def fibonacci(number):\n",
    "    if number == 0:\n",
    "        return 0\n",
    "    elif number == 1:\n",
    "        return 1\n",
    "    return fibonacci(number - 1) + fibonacci(number - 2)\n",
    "\n",
    "# calling a recursive function \n",
    "# fibonacci number at the position specified in the calling function\n",
    "print fibonacci(4)"
   ]
  },
  {
   "cell_type": "code",
   "execution_count": 3,
   "metadata": {
    "collapsed": false
   },
   "outputs": [
    {
     "name": "stdout",
     "output_type": "stream",
     "text": [
      "Move disk 1 from peg 1 to peg 2\n",
      "Move disk 2 from peg 1 to peg 3\n",
      "Move disk 1 from peg 2 to peg 3\n",
      "Move disk 3 from peg 1 to peg 2\n",
      "Move disk 1 from peg 3 to peg 1\n",
      "Move disk 2 from peg 3 to peg 2\n",
      "Move disk 1 from peg 1 to peg 2\n",
      "Move disk 4 from peg 1 to peg 3\n",
      "Move disk 1 from peg 2 to peg 3\n",
      "Move disk 2 from peg 2 to peg 1\n",
      "Move disk 1 from peg 3 to peg 1\n",
      "Move disk 3 from peg 2 to peg 3\n",
      "Move disk 1 from peg 1 to peg 2\n",
      "Move disk 2 from peg 1 to peg 3\n",
      "Move disk 1 from peg 2 to peg 3\n"
     ]
    }
   ],
   "source": [
    "# towers of hanoi program using recursion in python\n",
    "def TowersOfHanoi(number_of_disks, start_peg=1, end_peg=3):\n",
    "    if number_of_disks:\n",
    "        TowersOfHanoi(number_of_disks-1, start_peg, 6-start_peg-end_peg)\n",
    "        print \"Move disk %d from peg %d to peg %d\" % (number_of_disks, start_peg, end_peg)\n",
    "        TowersOfHanoi(number_of_disks-1, 6-start_peg-end_peg, end_peg)\n",
    "        \n",
    "TowersOfHanoi(number_of_disks=4)"
   ]
  },
  {
   "cell_type": "code",
   "execution_count": 4,
   "metadata": {
    "collapsed": false
   },
   "outputs": [
    {
     "name": "stdout",
     "output_type": "stream",
     "text": [
      "False\n"
     ]
    }
   ],
   "source": [
    "# given an array check whether the array is in sorted order of not\n",
    "\n",
    "def is_array_sorted(array):\n",
    "    if len(array) == 1:\n",
    "        return True\n",
    "    return array[0] <= array[1] and is_array_sorted(array[1:])\n",
    "\n",
    "array = [12,34,23,56,34,67]\n",
    "print is_array_sorted(array)"
   ]
  },
  {
   "cell_type": "code",
   "execution_count": 6,
   "metadata": {
    "collapsed": false
   },
   "outputs": [
    {
     "name": "stdout",
     "output_type": "stream",
     "text": [
      "['0000', '0001', '0010', '0011', '0100', '0101', '0110', '0111', '1000', '1001', '1010', '1011', '1100', '1101', '1110', '1111']\n"
     ]
    }
   ],
   "source": [
    "################## Backtracking ###################\n",
    "\n",
    "# 1) Generate all the binary strings with n bits, Assume A[0..n-1] is an array of size n\n",
    "def append_at_beginning_front(x, L):\n",
    "    return [x + element for element in L]\n",
    "\n",
    "def bit_strings(n):\n",
    "    if n==0:\n",
    "        return []\n",
    "    elif n==1:\n",
    "        return [\"0\", \"1\"]\n",
    "    else:\n",
    "        return (append_at_beginning_front(\"0\", bit_strings(n-1)) + append_at_beginning_front(\"1\", bit_strings(n-1)))\n",
    "    \n",
    "print bit_strings(4)"
   ]
  },
  {
   "cell_type": "code",
   "execution_count": 7,
   "metadata": {
    "collapsed": false
   },
   "outputs": [
    {
     "name": "stdout",
     "output_type": "stream",
     "text": [
      "['0000', '0001', '0010', '0011', '0100', '0101', '0110', '0111', '1000', '1001', '1010', '1011', '1100', '1101', '1110', '1111']\n"
     ]
    }
   ],
   "source": [
    "\n",
    "# alternative approach\n",
    "\n",
    "def bit_strings(n):\n",
    "    if n==0:\n",
    "        return []\n",
    "    elif n==1:\n",
    "        return [\"0\", \"1\"]\n",
    "    return [ digit+ bitstring for digit in bit_strings(1) for bitstring in bit_strings(n-1)]\n",
    "        \n",
    "print bit_strings(4)"
   ]
  },
  {
   "cell_type": "code",
   "execution_count": 9,
   "metadata": {
    "collapsed": false
   },
   "outputs": [
    {
     "name": "stdout",
     "output_type": "stream",
     "text": [
      "['0000', '0001', '0002', '0010', '0011', '0012', '0020', '0021', '0022', '0100', '0101', '0102', '0110', '0111', '0112', '0120', '0121', '0122', '0200', '0201', '0202', '0210', '0211', '0212', '0220', '0221', '0222', '1000', '1001', '1002', '1010', '1011', '1012', '1020', '1021', '1022', '1100', '1101', '1102', '1110', '1111', '1112', '1120', '1121', '1122', '1200', '1201', '1202', '1210', '1211', '1212', '1220', '1221', '1222', '2000', '2001', '2002', '2010', '2011', '2012', '2020', '2021', '2022', '2100', '2101', '2102', '2110', '2111', '2112', '2120', '2121', '2122', '2200', '2201', '2202', '2210', '2211', '2212', '2220', '2221', '2222']\n"
     ]
    }
   ],
   "source": [
    "# generate all the strings of length n drawn from 0...k-1.\n",
    "# k = 3 so strings from [0 --- 2] k-1 = 2 here\n",
    "def range_to_list(k):\n",
    "    result = []\n",
    "    for i in range(0, k):\n",
    "        result.append(str(i))\n",
    "    return result\n",
    "\n",
    "def base_k_strings(n,k):\n",
    "    if n==0:\n",
    "        return []\n",
    "    elif n==1:\n",
    "        return range_to_list(k)\n",
    "    return [digit + bitstring for digit in base_k_strings(1, k) for bitstring in base_k_strings(n-1, k)]\n",
    "\n",
    "print base_k_strings(4, 3)"
   ]
  },
  {
   "cell_type": "code",
   "execution_count": null,
   "metadata": {
    "collapsed": true
   },
   "outputs": [],
   "source": [
    "# finding the length of the connected cells of 1s (regions) in an matrix of 0s and 1s:\n",
    "\n",
    "def get_value(A, i, j, L, H):\n",
    "    if (i<0 or i >= L or j<0 or j>=H):\n",
    "        return 0\n",
    "    else:\n",
    "        return A[i][j]\n",
    "    \n",
    "def find_max_block(A, r, c, L, H, size):\n",
    "    global maxsize\n",
    "    global cntarr\n",
    "    if (r>=L or c>=H):\n",
    "        return \n",
    "    cntarr[r][c] = 1\n",
    "    size += 1\n",
    "    if (size>maxsize):\n",
    "        maxsize = size\n",
    "    \n",
    "    # search in eight directions for the connected elements (1's)\n",
    "    \n",
    "    direction = [[-1, 0], [-1, -1], [0, -1], [1, -1], [1, 0], [1, 1], [0, 1], [-1, 1]];\n",
    "    \n",
    "    for i in range(0,7):\n",
    "        newj = r + direction[i][0]\n",
    "        newj = c + direction[i][1]\n",
    "        \n"
   ]
  }
 ],
 "metadata": {
  "kernelspec": {
   "display_name": "Python 2",
   "language": "python",
   "name": "python2"
  },
  "language_info": {
   "codemirror_mode": {
    "name": "ipython",
    "version": 2
   },
   "file_extension": ".py",
   "mimetype": "text/x-python",
   "name": "python",
   "nbconvert_exporter": "python",
   "pygments_lexer": "ipython2",
   "version": "2.7.11"
  }
 },
 "nbformat": 4,
 "nbformat_minor": 0
}
