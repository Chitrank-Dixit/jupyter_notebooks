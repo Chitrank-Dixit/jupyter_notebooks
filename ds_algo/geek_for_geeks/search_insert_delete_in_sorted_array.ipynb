{
 "cells": [
  {
   "cell_type": "code",
   "execution_count": 6,
   "metadata": {
    "collapsed": false
   },
   "outputs": [
    {
     "name": "stdout",
     "output_type": "stream",
     "text": [
      "4\n"
     ]
    }
   ],
   "source": [
    "# for searching an element in the sorted array we can use the binary serach algorithm\n",
    "# O(logn)\n",
    "def find_element(arr, element, arr1):\n",
    "    mid = len(arr) / 2\n",
    "    if element == arr[mid]:\n",
    "        return arr1.index(arr[mid])\n",
    "    elif element > arr[mid]:\n",
    "        return find_element(arr[mid+1:], element, arr1)\n",
    "    elif element < arr[mid]:\n",
    "        return find_element(arr[:mid], element, arr1)\n",
    "    \n",
    "arr = [12, 23, 45, 56, 67, 78, 89]\n",
    "\n",
    "print find_element(arr, 67, arr)"
   ]
  },
  {
   "cell_type": "code",
   "execution_count": 7,
   "metadata": {
    "collapsed": false
   },
   "outputs": [
    {
     "name": "stdout",
     "output_type": "stream",
     "text": [
      "[12, 23, 45, 56, 67, 78, 89, 599]\n"
     ]
    }
   ],
   "source": [
    "# insert into an array that would take O(1) to store at the end of the element\n",
    "def insert_element(arr, element):\n",
    "    arr.append(element)\n",
    "    return arr\n",
    "\n",
    "print insert_element(arr, 599)"
   ]
  },
  {
   "cell_type": "code",
   "execution_count": 8,
   "metadata": {
    "collapsed": false
   },
   "outputs": [
    {
     "name": "stdout",
     "output_type": "stream",
     "text": [
      "[12, 45, 56, 67, 78, 89, 599]\n"
     ]
    }
   ],
   "source": [
    "# delete an element from an array that would require to search an element from the array and then delete that element\n",
    "# O(n)\n",
    "def delete_element(arr, element):\n",
    "    index = find_element(arr, element, arr)\n",
    "    \n",
    "    arr.pop(index)\n",
    "    return arr\n",
    "\n",
    "print delete_element(arr, 23)"
   ]
  },
  {
   "cell_type": "code",
   "execution_count": null,
   "metadata": {
    "collapsed": true
   },
   "outputs": [],
   "source": []
  }
 ],
 "metadata": {
  "kernelspec": {
   "display_name": "Python 2",
   "language": "python",
   "name": "python2"
  },
  "language_info": {
   "codemirror_mode": {
    "name": "ipython",
    "version": 2
   },
   "file_extension": ".py",
   "mimetype": "text/x-python",
   "name": "python",
   "nbconvert_exporter": "python",
   "pygments_lexer": "ipython2",
   "version": "2.7.11"
  }
 },
 "nbformat": 4,
 "nbformat_minor": 0
}
