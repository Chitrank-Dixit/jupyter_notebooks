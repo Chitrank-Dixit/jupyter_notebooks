{
 "cells": [
  {
   "cell_type": "code",
   "execution_count": 1,
   "metadata": {
    "collapsed": false
   },
   "outputs": [
    {
     "name": "stdout",
     "output_type": "stream",
     "text": [
      "(1, 4)\n"
     ]
    }
   ],
   "source": [
    "# Given an array A[] and a number x, check for pair in A[] with sum as x\n",
    "\n",
    "def check_for_pair(arr, sums):\n",
    "    # brute force approach\n",
    "    pair_value = None\n",
    "    for i in range(len(arr)):\n",
    "        for j in range(len(arr)):\n",
    "            if i != j:\n",
    "                if arr[i]+arr[j] == sums:\n",
    "                    pair_value = (arr[i], arr[j])\n",
    "                    break\n",
    "        if pair_value:\n",
    "            break\n",
    "    return pair_value\n",
    "\n",
    "\n",
    "\n",
    "\n",
    "arr = [1,4,2,3,6]\n",
    "sums = 5\n",
    "\n",
    "print check_for_pair(arr, sums)"
   ]
  },
  {
   "cell_type": "code",
   "execution_count": 8,
   "metadata": {
    "collapsed": false
   },
   "outputs": [
    {
     "name": "stdout",
     "output_type": "stream",
     "text": [
      "left [1]\n",
      "right [4]\n",
      "Left result [1]\n",
      "Result out [1, 4]\n",
      "left [1, 4]\n",
      "left [2]\n",
      "left [3]\n",
      "right [6]\n",
      "Left result [3]\n",
      "Result out [3, 6]\n",
      "right [3, 6]\n",
      "Left result [2]\n",
      "Result out [2, 3, 6]\n",
      "right [2, 3, 6]\n",
      "Left result [1]\n",
      "Right result [1, 2]\n",
      "Right result [1, 2, 3]\n",
      "Left result [1, 2, 3, 4]\n",
      "Result out [1, 2, 3, 4, 6]\n",
      "(1, 0)\n",
      "(1, 0)\n"
     ]
    }
   ],
   "source": [
    "# more better approach\n",
    "\n",
    "# implementing merge sort algorithm\n",
    "# p<=q<r\n",
    "def merge_list(left,right):\n",
    "    result=[]\n",
    "    i,j=0,0\n",
    "    while i < len(left) and j < len(right):\n",
    "        if left[i] <=right[j]:\n",
    "            result.append(left[i])\n",
    "            print \"Left result\",result\n",
    "            i=i+1\n",
    "        else:\n",
    "            result.append(right[j])\n",
    "            print \"Right result\",result\n",
    "            j=j+1\n",
    "    result=result+left[i:]\n",
    "    result=result+right[j:]\n",
    "    print \"Result out\",result\n",
    "    return result\n",
    "    \n",
    "\n",
    "\n",
    "\n",
    "def merge_sort(lis):\n",
    "    if len(lis)<2:\n",
    "        return lis\n",
    "    middle=len(lis) / 2\n",
    "    left=merge_sort(lis[:middle])\n",
    "    print \"left\",left\n",
    "    right=merge_sort(lis[middle:])\n",
    "    print \"right\",right\n",
    "    return merge_list(left,right)\n",
    "\n",
    "def check_for_pair(arr, element_to_sum, left, right):\n",
    "    # recursive approach\n",
    "    if arr[left] + arr[right] == element_to_sum:\n",
    "        return arr.index(arr[left]), arr.index(arr[right])\n",
    "    elif arr[left] + arr[right] > element_to_sum:\n",
    "        right -= 1\n",
    "        return check_for_pair(arr, element_to_sum, left, right)\n",
    "    elif arr[left] + arr[right] < element_to_sum:\n",
    "        left += 1\n",
    "        return check_for_pair(arr, element_to_sum, left, right)\n",
    "\n",
    "\n",
    "\n",
    "\n",
    "def check_for_pair_iterative(arr, element_to_sum, left, right):\n",
    "    # recursive approach\n",
    "    while True:\n",
    "        if arr[left] + arr[right] == element_to_sum:\n",
    "            return arr.index(arr[left]), arr.index(arr[right])\n",
    "        elif arr[left] + arr[right] > element_to_sum:\n",
    "            right -= 1\n",
    "            #return check_for_pair(arr, element_to_sum, left, right)\n",
    "        elif arr[left] + arr[right] < element_to_sum:\n",
    "            left += 1\n",
    "            #return check_for_pair(arr, element_to_sum, left, right)\n",
    "    # if nothing is found then we will return 0 instead\n",
    "    return 0\n",
    "\n",
    "\n",
    "arr = [1,4,2,3,6]\n",
    "sorted_arr = merge_sort(arr)\n",
    "sums = 5\n",
    "\n",
    "print check_for_pair(arr, sums, 0, (len(sorted_arr) - 1))\n",
    "print check_for_pair_iterative(arr, sums, 0, (len(sorted_arr) - 1))"
   ]
  },
  {
   "cell_type": "code",
   "execution_count": 1,
   "metadata": {
    "collapsed": false
   },
   "outputs": [
    {
     "name": "stdout",
     "output_type": "stream",
     "text": [
      "Pair with the given sum is 10 and 6\n"
     ]
    }
   ],
   "source": [
    "# using hash maps as well (in case of python we will use dictionary)\n",
    "# Python program to find if there are two elements wtih given sum\n",
    "CONST_MAX = 100000\n",
    " \n",
    "# function to check for the given sum in the array\n",
    "def printPairs(arr, arr_size, element_sum):\n",
    "     \n",
    "    # initialize hash map as 0\n",
    "    binmap = [0]*CONST_MAX\n",
    "     \n",
    "    for i in range(0,arr_size):\n",
    "        temp = element_sum-arr[i]\n",
    "        if (temp>=0 and binmap[temp]==1):\n",
    "            print \"Pair with the given sum is\", arr[i], \"and\", temp\n",
    "        binmap[arr[i]]=1\n",
    " \n",
    "# driver program to check the above function\n",
    "A = [1,4,45,6,10,-8]\n",
    "n = 16\n",
    "printPairs(A, len(A), n)\n",
    " \n",
    "# This code is contributed by __Devesh Agrawal__"
   ]
  },
  {
   "cell_type": "code",
   "execution_count": null,
   "metadata": {
    "collapsed": true
   },
   "outputs": [],
   "source": []
  }
 ],
 "metadata": {
  "kernelspec": {
   "display_name": "Python 2",
   "language": "python",
   "name": "python2"
  },
  "language_info": {
   "codemirror_mode": {
    "name": "ipython",
    "version": 2
   },
   "file_extension": ".py",
   "mimetype": "text/x-python",
   "name": "python",
   "nbconvert_exporter": "python",
   "pygments_lexer": "ipython2",
   "version": "2.7.11"
  }
 },
 "nbformat": 4,
 "nbformat_minor": 0
}
