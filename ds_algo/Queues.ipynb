{
 "cells": [
  {
   "cell_type": "code",
   "execution_count": 9,
   "metadata": {
    "collapsed": false
   },
   "outputs": [
    {
     "name": "stdout",
     "output_type": "stream",
     "text": [
      "3\n",
      "dog\n",
      "hello\n",
      "3\n",
      "dog\n"
     ]
    }
   ],
   "source": [
    "# simple array based implementation \n",
    "\n",
    "class Queue:\n",
    "    def __init__(self, limit):\n",
    "        self.limit = limit\n",
    "        self.items = []\n",
    "\n",
    "    def isEmpty(self):\n",
    "        return self.items == []\n",
    "    \n",
    "    def list_of_items(self):\n",
    "        for element in self.items:\n",
    "            print element\n",
    "\n",
    "    def enqueue(self, item):\n",
    "        if len(self.items) <= self.limit:\n",
    "            self.items.insert(0,item)\n",
    "        else:\n",
    "            print \"Queue overflow\"\n",
    "\n",
    "    def dequeue(self):\n",
    "        if len(self.items) > 0:\n",
    "            return self.items.pop()\n",
    "        print \"Queue underflow\"\n",
    "\n",
    "    def size(self):\n",
    "        return len(self.items)\n",
    "    \n",
    "# queue of size 5 (more values can not be entered as 5 is the maximum size of the queue)\n",
    "q = Queue(5)\n",
    "q.enqueue('hello')\n",
    "q.enqueue('dog')\n",
    "q.enqueue(3)\n",
    "q.list_of_items()\n",
    "q.dequeue()\n",
    "q.list_of_items()\n"
   ]
  },
  {
   "cell_type": "code",
   "execution_count": 11,
   "metadata": {
    "collapsed": false
   },
   "outputs": [
    {
     "name": "stdout",
     "output_type": "stream",
     "text": [
      "3\n",
      "dog\n",
      "hello\n",
      "3\n",
      "dog\n"
     ]
    }
   ],
   "source": [
    "# dynamic array implementation \n",
    "\n",
    "# simple array based implementation \n",
    "\n",
    "class Queue:\n",
    "    def __init__(self):\n",
    "        self.items = []\n",
    "\n",
    "    def isEmpty(self):\n",
    "        return self.items == []\n",
    "    \n",
    "    def list_of_items(self):\n",
    "        for element in self.items:\n",
    "            print element\n",
    "\n",
    "    def enqueue(self, item):\n",
    "        self.items.insert(0,item)\n",
    "\n",
    "    def dequeue(self):\n",
    "        if len(self.items) > 0:\n",
    "            return self.items.pop()\n",
    "        print \"Queue underflow\"\n",
    "\n",
    "    def size(self):\n",
    "        return len(self.items)\n",
    "    \n",
    "# queue with no limit in size\n",
    "q = Queue()\n",
    "q.enqueue('hello')\n",
    "q.enqueue('dog')\n",
    "q.enqueue(3)\n",
    "q.list_of_items()\n",
    "q.dequeue()\n",
    "q.list_of_items()"
   ]
  },
  {
   "cell_type": "code",
   "execution_count": 17,
   "metadata": {
    "collapsed": false
   },
   "outputs": [
    {
     "name": "stdout",
     "output_type": "stream",
     "text": [
      "[(4, <__main__.Node instance at 0x103873e60>), (3, <__main__.Node instance at 0x1038735f0>), (2, <__main__.Node instance at 0x103873638>), (1, <__main__.Node instance at 0x1038990e0>), (23, None)]\n",
      "4\n",
      "3\n",
      "[(2, <__main__.Node instance at 0x103873638>), (1, <__main__.Node instance at 0x1038990e0>), (23, None)]\n",
      "2\n"
     ]
    }
   ],
   "source": [
    "# linked list implementation\n",
    "\n",
    "class Node:\n",
    "    def __init__(self):\n",
    "        self.data = None\n",
    "        self.next_ptr = None\n",
    "        self.length = 0\n",
    "        self.head = None\n",
    "        \n",
    "    def set_data(self, data):\n",
    "        self.data = data\n",
    "        \n",
    "    def get_data(self):\n",
    "        return self.data\n",
    "    \n",
    "    def set_next(self, next_ptr):\n",
    "        self.next_ptr = next_ptr\n",
    "        \n",
    "    def get_next(self):\n",
    "        return self.next_ptr\n",
    "    \n",
    "    def has_next(self):\n",
    "        return self.next_ptr != None\n",
    "    \n",
    "\n",
    "class Queue(object):\n",
    "    def __init__(self, data=None):\n",
    "        self.head = None\n",
    "        if data:\n",
    "            for element in data:\n",
    "                self.enqueue(element)\n",
    "                \n",
    "    def get_all_elements_of_queue(self):\n",
    "        current = self.head\n",
    "        queue = []\n",
    "        while current != None:\n",
    "            queue.append((current.get_data() , current.get_next()))\n",
    "            current = current.get_next()\n",
    "        return queue\n",
    "                \n",
    "    def enqueue(self, data):\n",
    "        temp = Node()\n",
    "        temp.set_data(data)\n",
    "        if self.head == None:\n",
    "            self.head = temp\n",
    "        else:\n",
    "            current = self.head\n",
    "            prev = self.head\n",
    "            while current != None:\n",
    "                prev = current\n",
    "                current = current.get_next()\n",
    "            prev.set_next(temp)\n",
    "        temp.set_next(None)\n",
    "\n",
    "    def dequeue(self):\n",
    "        if self.head is None:\n",
    "            raise IndexError\n",
    "        temp = self.head.get_data()\n",
    "        self.head = self.head.get_next()\n",
    "        return temp\n",
    "    \n",
    "    def peek(self):\n",
    "        if self.head is None:\n",
    "            raise IndexError\n",
    "        return self.head.get_data()\n",
    "    \n",
    "    \n",
    "our_list = [4,3,2,1]\n",
    "q = Queue(our_list)\n",
    "q.enqueue(23)\n",
    "print q.get_all_elements_of_queue()\n",
    "print q.dequeue()\n",
    "print q.dequeue()\n",
    "print q.get_all_elements_of_queue()\n",
    "print q.peek()"
   ]
  },
  {
   "cell_type": "code",
   "execution_count": null,
   "metadata": {
    "collapsed": true
   },
   "outputs": [],
   "source": []
  }
 ],
 "metadata": {
  "kernelspec": {
   "display_name": "Python 2",
   "language": "python",
   "name": "python2"
  },
  "language_info": {
   "codemirror_mode": {
    "name": "ipython",
    "version": 2
   },
   "file_extension": ".py",
   "mimetype": "text/x-python",
   "name": "python",
   "nbconvert_exporter": "python",
   "pygments_lexer": "ipython2",
   "version": "2.7.11"
  }
 },
 "nbformat": 4,
 "nbformat_minor": 0
}
