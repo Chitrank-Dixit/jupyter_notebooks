{
 "cells": [
  {
   "cell_type": "code",
   "execution_count": 5,
   "metadata": {
    "collapsed": false
   },
   "outputs": [
    {
     "name": "stdout",
     "output_type": "stream",
     "text": [
      "1\n"
     ]
    }
   ],
   "source": [
    "# search , insert and delete in an unsorted array\n",
    "\n",
    "# There would be simple linear search that would determine the position of the element to be\n",
    "# serached placed\n",
    "\n",
    "def find_element(arr, key):\n",
    "    for element in arr:\n",
    "        if key == element:\n",
    "            return arr.index(element)\n",
    "    return -1\n",
    "\n",
    "arr = [23, 56, 34, 78, 67, 89]\n",
    "\n",
    "print find_element(arr, 56)"
   ]
  },
  {
   "cell_type": "code",
   "execution_count": 6,
   "metadata": {
    "collapsed": false
   },
   "outputs": [
    {
     "name": "stdout",
     "output_type": "stream",
     "text": [
      "[23, 56, 34, 78, 67, 89, 900]\n"
     ]
    }
   ],
   "source": [
    "# insert an element in the array\n",
    "# This will be very less costly operation as it can be done in O(1) time\n",
    "\n",
    "def insert_element(arr, element_to_insert):\n",
    "    arr.append(element_to_insert)\n",
    "    return arr\n",
    "    \n",
    "print insert_element(arr, 900)\n"
   ]
  },
  {
   "cell_type": "code",
   "execution_count": 7,
   "metadata": {
    "collapsed": false
   },
   "outputs": [
    {
     "name": "stdout",
     "output_type": "stream",
     "text": [
      "[23, 56, 34, 67, 89, 900]\n"
     ]
    }
   ],
   "source": [
    "# delete an element from the unsorted array\n",
    "\n",
    "# so it would need first element to be searched using the find_element method above and then if element found then that\n",
    "# would be deleted\n",
    "\n",
    "def delete_element(arr, element_to_delete):\n",
    "    index = find_element(arr, element_to_delete)\n",
    "    \n",
    "    arr.pop(index)\n",
    "    return arr\n",
    "\n",
    "print delete_element(arr, 78)\n",
    "    "
   ]
  },
  {
   "cell_type": "code",
   "execution_count": null,
   "metadata": {
    "collapsed": true
   },
   "outputs": [],
   "source": []
  }
 ],
 "metadata": {
  "kernelspec": {
   "display_name": "Python 2",
   "language": "python",
   "name": "python2"
  },
  "language_info": {
   "codemirror_mode": {
    "name": "ipython",
    "version": 2
   },
   "file_extension": ".py",
   "mimetype": "text/x-python",
   "name": "python",
   "nbconvert_exporter": "python",
   "pygments_lexer": "ipython2",
   "version": "2.7.11"
  }
 },
 "nbformat": 4,
 "nbformat_minor": 0
}
